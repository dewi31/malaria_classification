{
  "nbformat": 4,
  "nbformat_minor": 0,
  "metadata": {
    "colab": {
      "provenance": [],
      "mount_file_id": "1Plpu_X5p9aSAjucM8S_z8NyGjinS0-4s",
      "authorship_tag": "ABX9TyN62m4XiRV61JMxq5patbnX",
      "include_colab_link": true
    },
    "kernelspec": {
      "name": "python3",
      "display_name": "Python 3"
    },
    "language_info": {
      "name": "python"
    }
  },
  "cells": [
    {
      "cell_type": "markdown",
      "metadata": {
        "id": "view-in-github",
        "colab_type": "text"
      },
      "source": [
        "<a href=\"https://colab.research.google.com/github/dewi31/malaria_classification/blob/main/VGG_19_%2B_Random_Forest.ipynb\" target=\"_parent\"><img src=\"https://colab.research.google.com/assets/colab-badge.svg\" alt=\"Open In Colab\"/></a>"
      ]
    },
    {
      "cell_type": "code",
      "execution_count": null,
      "metadata": {
        "id": "-I2poGzws-A3"
      },
      "outputs": [],
      "source": [
        "import numpy as np\n",
        "import matplotlib.pyplot as plt\n",
        "import glob\n",
        "import cv2\n",
        "import os\n",
        "import seaborn as sns\n",
        "from keras.applications.vgg19 import VGG19\n",
        "import keras\n",
        "from keras.models import Sequential,  Model, load_model"
      ]
    },
    {
      "cell_type": "code",
      "source": [
        "print(os.listdir(\"/content/drive/MyDrive/Fold_1\"))"
      ],
      "metadata": {
        "colab": {
          "base_uri": "https://localhost:8080/"
        },
        "id": "hpepZ21ttuGK",
        "outputId": "68a5f106-b668-443c-8f24-93979d3811df"
      },
      "execution_count": null,
      "outputs": [
        {
          "output_type": "stream",
          "name": "stdout",
          "text": [
            "['train', 'validation']\n"
          ]
        }
      ]
    },
    {
      "cell_type": "code",
      "source": [
        "\n",
        "SIZE = 100\n",
        "train_images = []\n",
        "train_labels = []\n",
        "\n",
        "for directory_path in glob.glob(\"/content/drive/MyDrive/Fold_1/train/*\"):\n",
        "    label = directory_path.split(\"/\")[-1]\n",
        "    print(label)\n",
        "    for img_path in glob.glob(os.path.join(directory_path, \"*.png\")):\n",
        "        print(img_path)\n",
        "        img = cv2.imread(img_path, cv2.IMREAD_COLOR)\n",
        "        img = cv2.resize(img, (SIZE, SIZE))\n",
        "        img = cv2.cvtColor(img, cv2.COLOR_RGB2BGR)\n",
        "        train_images.append(img)\n",
        "        train_labels.append(label)"
      ],
      "metadata": {
        "colab": {
          "base_uri": "https://localhost:8080/"
        },
        "id": "_dUOMoqvtv1u",
        "outputId": "46c96e38-5365-4f79-fd3f-ed9b8e2d6234"
      },
      "execution_count": null,
      "outputs": [
        {
          "output_type": "stream",
          "name": "stdout",
          "text": [
            "Normal\n",
            "/content/drive/MyDrive/Fold_1/train/Normal/Normal_ (55).png\n",
            "/content/drive/MyDrive/Fold_1/train/Normal/Normal_ (35).png\n",
            "/content/drive/MyDrive/Fold_1/train/Normal/Normal_ (48).png\n",
            "/content/drive/MyDrive/Fold_1/train/Normal/Normal_ (49).png\n",
            "/content/drive/MyDrive/Fold_1/train/Normal/Normal_ (50).png\n",
            "/content/drive/MyDrive/Fold_1/train/Normal/Normal_ (51).png\n",
            "/content/drive/MyDrive/Fold_1/train/Normal/Normal_ (52).png\n",
            "/content/drive/MyDrive/Fold_1/train/Normal/Normal_ (53).png\n",
            "/content/drive/MyDrive/Fold_1/train/Normal/Normal_ (54).png\n",
            "/content/drive/MyDrive/Fold_1/train/Normal/Normal_ (12).png\n",
            "/content/drive/MyDrive/Fold_1/train/Normal/Normal_ (13).png\n",
            "/content/drive/MyDrive/Fold_1/train/Normal/Normal_ (14).png\n",
            "/content/drive/MyDrive/Fold_1/train/Normal/Normal_ (15).png\n",
            "/content/drive/MyDrive/Fold_1/train/Normal/Normal_ (16).png\n",
            "/content/drive/MyDrive/Fold_1/train/Normal/Normal_ (17).png\n",
            "/content/drive/MyDrive/Fold_1/train/Normal/Normal_ (18).png\n",
            "/content/drive/MyDrive/Fold_1/train/Normal/Normal_ (19).png\n",
            "/content/drive/MyDrive/Fold_1/train/Normal/Normal_ (20).png\n",
            "/content/drive/MyDrive/Fold_1/train/Normal/Normal_ (21).png\n",
            "/content/drive/MyDrive/Fold_1/train/Normal/Normal_ (22).png\n",
            "/content/drive/MyDrive/Fold_1/train/Normal/Normal_ (23).png\n",
            "/content/drive/MyDrive/Fold_1/train/Normal/Normal_ (24).png\n",
            "/content/drive/MyDrive/Fold_1/train/Normal/Normal_ (25).png\n",
            "/content/drive/MyDrive/Fold_1/train/Normal/Normal_ (26).png\n",
            "/content/drive/MyDrive/Fold_1/train/Normal/Normal_ (27).png\n",
            "/content/drive/MyDrive/Fold_1/train/Normal/Normal_ (28).png\n",
            "/content/drive/MyDrive/Fold_1/train/Normal/Normal_ (29).png\n",
            "/content/drive/MyDrive/Fold_1/train/Normal/Normal_ (30).png\n",
            "/content/drive/MyDrive/Fold_1/train/Normal/Normal_ (31).png\n",
            "/content/drive/MyDrive/Fold_1/train/Normal/Normal_ (32).png\n",
            "/content/drive/MyDrive/Fold_1/train/Normal/Normal_ (33).png\n",
            "/content/drive/MyDrive/Fold_1/train/Normal/Normal_ (34).png\n",
            "/content/drive/MyDrive/Fold_1/train/Normal/Normal_ (36).png\n",
            "/content/drive/MyDrive/Fold_1/train/Normal/Normal_ (37).png\n",
            "/content/drive/MyDrive/Fold_1/train/Normal/Normal_ (38).png\n",
            "/content/drive/MyDrive/Fold_1/train/Normal/Normal_ (39).png\n",
            "/content/drive/MyDrive/Fold_1/train/Normal/Normal_ (40).png\n",
            "/content/drive/MyDrive/Fold_1/train/Normal/Normal_ (41).png\n",
            "/content/drive/MyDrive/Fold_1/train/Normal/Normal_ (42).png\n",
            "/content/drive/MyDrive/Fold_1/train/Normal/Normal_ (43).png\n",
            "/content/drive/MyDrive/Fold_1/train/Normal/Normal_ (44).png\n",
            "/content/drive/MyDrive/Fold_1/train/Normal/Normal_ (45).png\n",
            "/content/drive/MyDrive/Fold_1/train/Normal/Normal_ (46).png\n",
            "/content/drive/MyDrive/Fold_1/train/Normal/Normal_ (47).png\n",
            "Parasit\n",
            "/content/drive/MyDrive/Fold_1/train/Parasit/Parasit_ (52).png\n",
            "/content/drive/MyDrive/Fold_1/train/Parasit/Parasit_ (46).png\n",
            "/content/drive/MyDrive/Fold_1/train/Parasit/Parasit_ (47).png\n",
            "/content/drive/MyDrive/Fold_1/train/Parasit/Parasit_ (48).png\n",
            "/content/drive/MyDrive/Fold_1/train/Parasit/Parasit_ (49).png\n",
            "/content/drive/MyDrive/Fold_1/train/Parasit/Parasit_ (50).png\n",
            "/content/drive/MyDrive/Fold_1/train/Parasit/Parasit_ (51).png\n",
            "/content/drive/MyDrive/Fold_1/train/Parasit/Parasit_ (53).png\n",
            "/content/drive/MyDrive/Fold_1/train/Parasit/Parasit_ (12).png\n",
            "/content/drive/MyDrive/Fold_1/train/Parasit/Parasit_ (13).png\n",
            "/content/drive/MyDrive/Fold_1/train/Parasit/Parasit_ (14).png\n",
            "/content/drive/MyDrive/Fold_1/train/Parasit/Parasit_ (22).png\n",
            "/content/drive/MyDrive/Fold_1/train/Parasit/Parasit_ (23).png\n",
            "/content/drive/MyDrive/Fold_1/train/Parasit/Parasit_ (24).png\n",
            "/content/drive/MyDrive/Fold_1/train/Parasit/Parasit_ (25).png\n",
            "/content/drive/MyDrive/Fold_1/train/Parasit/Parasit_ (26).png\n",
            "/content/drive/MyDrive/Fold_1/train/Parasit/Parasit_ (27).png\n",
            "/content/drive/MyDrive/Fold_1/train/Parasit/Parasit_ (28).png\n",
            "/content/drive/MyDrive/Fold_1/train/Parasit/Parasit_ (29).png\n",
            "/content/drive/MyDrive/Fold_1/train/Parasit/Parasit_ (15).png\n",
            "/content/drive/MyDrive/Fold_1/train/Parasit/Parasit_ (16).png\n",
            "/content/drive/MyDrive/Fold_1/train/Parasit/Parasit_ (17).png\n",
            "/content/drive/MyDrive/Fold_1/train/Parasit/Parasit_ (18).png\n",
            "/content/drive/MyDrive/Fold_1/train/Parasit/Parasit_ (19).png\n",
            "/content/drive/MyDrive/Fold_1/train/Parasit/Parasit_ (20).png\n",
            "/content/drive/MyDrive/Fold_1/train/Parasit/Parasit_ (21).png\n",
            "/content/drive/MyDrive/Fold_1/train/Parasit/Parasit_ (30).png\n",
            "/content/drive/MyDrive/Fold_1/train/Parasit/Parasit_ (31).png\n",
            "/content/drive/MyDrive/Fold_1/train/Parasit/Parasit_ (32).png\n",
            "/content/drive/MyDrive/Fold_1/train/Parasit/Parasit_ (33).png\n",
            "/content/drive/MyDrive/Fold_1/train/Parasit/Parasit_ (34).png\n",
            "/content/drive/MyDrive/Fold_1/train/Parasit/Parasit_ (55).png\n",
            "/content/drive/MyDrive/Fold_1/train/Parasit/Parasit_ (54).png\n",
            "/content/drive/MyDrive/Fold_1/train/Parasit/Parasit_ (36).png\n",
            "/content/drive/MyDrive/Fold_1/train/Parasit/Parasit_ (35).png\n",
            "/content/drive/MyDrive/Fold_1/train/Parasit/Parasit_ (37).png\n",
            "/content/drive/MyDrive/Fold_1/train/Parasit/Parasit_ (38).png\n",
            "/content/drive/MyDrive/Fold_1/train/Parasit/Parasit_ (39).png\n",
            "/content/drive/MyDrive/Fold_1/train/Parasit/Parasit_ (40).png\n",
            "/content/drive/MyDrive/Fold_1/train/Parasit/Parasit_ (41).png\n",
            "/content/drive/MyDrive/Fold_1/train/Parasit/Parasit_ (42).png\n",
            "/content/drive/MyDrive/Fold_1/train/Parasit/Parasit_ (43).png\n",
            "/content/drive/MyDrive/Fold_1/train/Parasit/Parasit_ (44).png\n",
            "/content/drive/MyDrive/Fold_1/train/Parasit/Parasit_ (45).png\n"
          ]
        }
      ]
    },
    {
      "cell_type": "code",
      "source": [
        "train_images = np.array(train_images)\n",
        "train_labels = np.array(train_labels)"
      ],
      "metadata": {
        "id": "wA-iOdrIuL4p"
      },
      "execution_count": null,
      "outputs": []
    },
    {
      "cell_type": "code",
      "source": [
        "test_images = []\n",
        "test_labels = []\n",
        "for directory_path in glob.glob(\"/content/drive/MyDrive/Fold_1/validation/*\"):\n",
        "    fruit_label = directory_path.split(\"/\")[-1]\n",
        "    print(fruit_label)\n",
        "    for img_path in glob.glob(os.path.join(directory_path, \"*.png\")):\n",
        "        print(img_path)\n",
        "        img = cv2.imread(img_path, cv2.IMREAD_COLOR)\n",
        "        img = cv2.resize(img, (SIZE, SIZE))\n",
        "        img = cv2.cvtColor(img, cv2.COLOR_RGB2BGR)\n",
        "        test_images.append(img)\n",
        "        test_labels.append(fruit_label)\n",
        "test_images = np.array(test_images)\n",
        "test_labels = np.array(test_labels)"
      ],
      "metadata": {
        "id": "1bNg5_YuuQUd",
        "colab": {
          "base_uri": "https://localhost:8080/"
        },
        "outputId": "b54f6b14-b871-4227-f41c-2487d12b56d1"
      },
      "execution_count": null,
      "outputs": [
        {
          "output_type": "stream",
          "name": "stdout",
          "text": [
            "Parasit\n",
            "/content/drive/MyDrive/Fold_1/validation/Parasit/Parasit_ (1).png\n",
            "/content/drive/MyDrive/Fold_1/validation/Parasit/Parasit_ (6).png\n",
            "/content/drive/MyDrive/Fold_1/validation/Parasit/Parasit_ (7).png\n",
            "/content/drive/MyDrive/Fold_1/validation/Parasit/Parasit_ (8).png\n",
            "/content/drive/MyDrive/Fold_1/validation/Parasit/Parasit_ (9).png\n",
            "/content/drive/MyDrive/Fold_1/validation/Parasit/Parasit_ (11).png\n",
            "/content/drive/MyDrive/Fold_1/validation/Parasit/Parasit_ (10).png\n",
            "/content/drive/MyDrive/Fold_1/validation/Parasit/Parasit_ (3).png\n",
            "/content/drive/MyDrive/Fold_1/validation/Parasit/Parasit_ (4).png\n",
            "/content/drive/MyDrive/Fold_1/validation/Parasit/Parasit_ (5).png\n",
            "/content/drive/MyDrive/Fold_1/validation/Parasit/Parasit_ (2).png\n",
            "Normal\n",
            "/content/drive/MyDrive/Fold_1/validation/Normal/Normal_ (1).png\n",
            "/content/drive/MyDrive/Fold_1/validation/Normal/Normal_ (3).png\n",
            "/content/drive/MyDrive/Fold_1/validation/Normal/Normal_ (4).png\n",
            "/content/drive/MyDrive/Fold_1/validation/Normal/Normal_ (5).png\n",
            "/content/drive/MyDrive/Fold_1/validation/Normal/Normal_ (6).png\n",
            "/content/drive/MyDrive/Fold_1/validation/Normal/Normal_ (7).png\n",
            "/content/drive/MyDrive/Fold_1/validation/Normal/Normal_ (8).png\n",
            "/content/drive/MyDrive/Fold_1/validation/Normal/Normal_ (9).png\n",
            "/content/drive/MyDrive/Fold_1/validation/Normal/Normal_ (10).png\n",
            "/content/drive/MyDrive/Fold_1/validation/Normal/Normal_ (11).png\n",
            "/content/drive/MyDrive/Fold_1/validation/Normal/Normal_ (2).png\n"
          ]
        }
      ]
    },
    {
      "cell_type": "code",
      "source": [
        "from sklearn import preprocessing\n",
        "le = preprocessing.LabelEncoder()\n",
        "le.fit(test_labels)\n",
        "test_labels_encoded = le.transform(test_labels)\n",
        "le.fit(train_labels)\n",
        "train_labels_encoded = le.transform(train_labels)"
      ],
      "metadata": {
        "id": "SEvSqAGnuf4u"
      },
      "execution_count": null,
      "outputs": []
    },
    {
      "cell_type": "code",
      "source": [
        "x_train, y_train, x_test, y_test = train_images, train_labels_encoded, test_images, test_labels_encoded"
      ],
      "metadata": {
        "id": "4kmGkwoOuofX"
      },
      "execution_count": null,
      "outputs": []
    },
    {
      "cell_type": "code",
      "source": [
        "x_train, x_test = x_train / 255.0, x_test / 255.0"
      ],
      "metadata": {
        "id": "BY-XBcHUuuvw"
      },
      "execution_count": null,
      "outputs": []
    },
    {
      "cell_type": "code",
      "source": [
        "from keras.utils import to_categorical\n",
        "y_train_one_hot = to_categorical(y_train)\n",
        "y_test_one_hot = to_categorical(y_test)"
      ],
      "metadata": {
        "id": "SfqDbGFau0oT"
      },
      "execution_count": null,
      "outputs": []
    },
    {
      "cell_type": "code",
      "source": [
        "VGG = VGG19(weights='imagenet', include_top=False, input_shape=(100, 100, 3))\n",
        "for layer in VGG.layers:\n",
        "\tlayer.trainable = False\n",
        "\n",
        "last_output= VGG.layers[-1].output\n",
        "\n",
        "last_output= keras.layers.Flatten()(last_output)\n",
        "\n",
        "VGG_model= Model(VGG.input, last_output)"
      ],
      "metadata": {
        "id": "mFyI62aWvEw9",
        "colab": {
          "base_uri": "https://localhost:8080/"
        },
        "outputId": "7bc3b53e-3b78-41c2-f16d-f794e813a121"
      },
      "execution_count": null,
      "outputs": [
        {
          "output_type": "stream",
          "name": "stdout",
          "text": [
            "Downloading data from https://storage.googleapis.com/tensorflow/keras-applications/vgg19/vgg19_weights_tf_dim_ordering_tf_kernels_notop.h5\n",
            "80134624/80134624 [==============================] - 1s 0us/step\n"
          ]
        }
      ]
    },
    {
      "cell_type": "code",
      "source": [
        "VGG_model.summary()"
      ],
      "metadata": {
        "colab": {
          "base_uri": "https://localhost:8080/"
        },
        "id": "PG-V3nJCvYCJ",
        "outputId": "a0cf25a5-30f8-4bb4-ca7c-36f55c5220bc"
      },
      "execution_count": null,
      "outputs": [
        {
          "output_type": "stream",
          "name": "stdout",
          "text": [
            "Model: \"model\"\n",
            "_________________________________________________________________\n",
            " Layer (type)                Output Shape              Param #   \n",
            "=================================================================\n",
            " input_1 (InputLayer)        [(None, 100, 100, 3)]     0         \n",
            "                                                                 \n",
            " block1_conv1 (Conv2D)       (None, 100, 100, 64)      1792      \n",
            "                                                                 \n",
            " block1_conv2 (Conv2D)       (None, 100, 100, 64)      36928     \n",
            "                                                                 \n",
            " block1_pool (MaxPooling2D)  (None, 50, 50, 64)        0         \n",
            "                                                                 \n",
            " block2_conv1 (Conv2D)       (None, 50, 50, 128)       73856     \n",
            "                                                                 \n",
            " block2_conv2 (Conv2D)       (None, 50, 50, 128)       147584    \n",
            "                                                                 \n",
            " block2_pool (MaxPooling2D)  (None, 25, 25, 128)       0         \n",
            "                                                                 \n",
            " block3_conv1 (Conv2D)       (None, 25, 25, 256)       295168    \n",
            "                                                                 \n",
            " block3_conv2 (Conv2D)       (None, 25, 25, 256)       590080    \n",
            "                                                                 \n",
            " block3_conv3 (Conv2D)       (None, 25, 25, 256)       590080    \n",
            "                                                                 \n",
            " block3_conv4 (Conv2D)       (None, 25, 25, 256)       590080    \n",
            "                                                                 \n",
            " block3_pool (MaxPooling2D)  (None, 12, 12, 256)       0         \n",
            "                                                                 \n",
            " block4_conv1 (Conv2D)       (None, 12, 12, 512)       1180160   \n",
            "                                                                 \n",
            " block4_conv2 (Conv2D)       (None, 12, 12, 512)       2359808   \n",
            "                                                                 \n",
            " block4_conv3 (Conv2D)       (None, 12, 12, 512)       2359808   \n",
            "                                                                 \n",
            " block4_conv4 (Conv2D)       (None, 12, 12, 512)       2359808   \n",
            "                                                                 \n",
            " block4_pool (MaxPooling2D)  (None, 6, 6, 512)         0         \n",
            "                                                                 \n",
            " block5_conv1 (Conv2D)       (None, 6, 6, 512)         2359808   \n",
            "                                                                 \n",
            " block5_conv2 (Conv2D)       (None, 6, 6, 512)         2359808   \n",
            "                                                                 \n",
            " block5_conv3 (Conv2D)       (None, 6, 6, 512)         2359808   \n",
            "                                                                 \n",
            " block5_conv4 (Conv2D)       (None, 6, 6, 512)         2359808   \n",
            "                                                                 \n",
            " block5_pool (MaxPooling2D)  (None, 3, 3, 512)         0         \n",
            "                                                                 \n",
            " flatten (Flatten)           (None, 4608)              0         \n",
            "                                                                 \n",
            "=================================================================\n",
            "Total params: 20,024,384\n",
            "Trainable params: 0\n",
            "Non-trainable params: 20,024,384\n",
            "_________________________________________________________________\n"
          ]
        }
      ]
    },
    {
      "cell_type": "code",
      "source": [
        "feature_extractor=VGG_model.predict(x_train)"
      ],
      "metadata": {
        "colab": {
          "base_uri": "https://localhost:8080/"
        },
        "id": "U4Z_g8LPvibo",
        "outputId": "83c0aee5-be72-45f7-8827-88383a15257c"
      },
      "execution_count": null,
      "outputs": [
        {
          "output_type": "stream",
          "name": "stdout",
          "text": [
            "3/3 [==============================] - 13s 3s/step\n"
          ]
        }
      ]
    },
    {
      "cell_type": "code",
      "source": [
        "X_for_RF = feature_extractor"
      ],
      "metadata": {
        "id": "kuObsomkv-vH"
      },
      "execution_count": null,
      "outputs": []
    },
    {
      "cell_type": "code",
      "source": [
        "#RANDOM FOREST\n",
        "from sklearn.ensemble import RandomForestClassifier\n",
        "RF_model = RandomForestClassifier(n_estimators = 50, random_state = 42)"
      ],
      "metadata": {
        "id": "MhYdJeQLwMe_"
      },
      "execution_count": null,
      "outputs": []
    },
    {
      "cell_type": "code",
      "source": [
        "RF_model.fit(X_for_RF, y_train)"
      ],
      "metadata": {
        "colab": {
          "base_uri": "https://localhost:8080/",
          "height": 75
        },
        "id": "Zm3-GNBXwSlY",
        "outputId": "25bb07a7-8566-43d8-ee69-4f85a093fb79"
      },
      "execution_count": null,
      "outputs": [
        {
          "output_type": "execute_result",
          "data": {
            "text/plain": [
              "RandomForestClassifier(n_estimators=50, random_state=42)"
            ],
            "text/html": [
              "<style>#sk-container-id-1 {color: black;background-color: white;}#sk-container-id-1 pre{padding: 0;}#sk-container-id-1 div.sk-toggleable {background-color: white;}#sk-container-id-1 label.sk-toggleable__label {cursor: pointer;display: block;width: 100%;margin-bottom: 0;padding: 0.3em;box-sizing: border-box;text-align: center;}#sk-container-id-1 label.sk-toggleable__label-arrow:before {content: \"▸\";float: left;margin-right: 0.25em;color: #696969;}#sk-container-id-1 label.sk-toggleable__label-arrow:hover:before {color: black;}#sk-container-id-1 div.sk-estimator:hover label.sk-toggleable__label-arrow:before {color: black;}#sk-container-id-1 div.sk-toggleable__content {max-height: 0;max-width: 0;overflow: hidden;text-align: left;background-color: #f0f8ff;}#sk-container-id-1 div.sk-toggleable__content pre {margin: 0.2em;color: black;border-radius: 0.25em;background-color: #f0f8ff;}#sk-container-id-1 input.sk-toggleable__control:checked~div.sk-toggleable__content {max-height: 200px;max-width: 100%;overflow: auto;}#sk-container-id-1 input.sk-toggleable__control:checked~label.sk-toggleable__label-arrow:before {content: \"▾\";}#sk-container-id-1 div.sk-estimator input.sk-toggleable__control:checked~label.sk-toggleable__label {background-color: #d4ebff;}#sk-container-id-1 div.sk-label input.sk-toggleable__control:checked~label.sk-toggleable__label {background-color: #d4ebff;}#sk-container-id-1 input.sk-hidden--visually {border: 0;clip: rect(1px 1px 1px 1px);clip: rect(1px, 1px, 1px, 1px);height: 1px;margin: -1px;overflow: hidden;padding: 0;position: absolute;width: 1px;}#sk-container-id-1 div.sk-estimator {font-family: monospace;background-color: #f0f8ff;border: 1px dotted black;border-radius: 0.25em;box-sizing: border-box;margin-bottom: 0.5em;}#sk-container-id-1 div.sk-estimator:hover {background-color: #d4ebff;}#sk-container-id-1 div.sk-parallel-item::after {content: \"\";width: 100%;border-bottom: 1px solid gray;flex-grow: 1;}#sk-container-id-1 div.sk-label:hover label.sk-toggleable__label {background-color: #d4ebff;}#sk-container-id-1 div.sk-serial::before {content: \"\";position: absolute;border-left: 1px solid gray;box-sizing: border-box;top: 0;bottom: 0;left: 50%;z-index: 0;}#sk-container-id-1 div.sk-serial {display: flex;flex-direction: column;align-items: center;background-color: white;padding-right: 0.2em;padding-left: 0.2em;position: relative;}#sk-container-id-1 div.sk-item {position: relative;z-index: 1;}#sk-container-id-1 div.sk-parallel {display: flex;align-items: stretch;justify-content: center;background-color: white;position: relative;}#sk-container-id-1 div.sk-item::before, #sk-container-id-1 div.sk-parallel-item::before {content: \"\";position: absolute;border-left: 1px solid gray;box-sizing: border-box;top: 0;bottom: 0;left: 50%;z-index: -1;}#sk-container-id-1 div.sk-parallel-item {display: flex;flex-direction: column;z-index: 1;position: relative;background-color: white;}#sk-container-id-1 div.sk-parallel-item:first-child::after {align-self: flex-end;width: 50%;}#sk-container-id-1 div.sk-parallel-item:last-child::after {align-self: flex-start;width: 50%;}#sk-container-id-1 div.sk-parallel-item:only-child::after {width: 0;}#sk-container-id-1 div.sk-dashed-wrapped {border: 1px dashed gray;margin: 0 0.4em 0.5em 0.4em;box-sizing: border-box;padding-bottom: 0.4em;background-color: white;}#sk-container-id-1 div.sk-label label {font-family: monospace;font-weight: bold;display: inline-block;line-height: 1.2em;}#sk-container-id-1 div.sk-label-container {text-align: center;}#sk-container-id-1 div.sk-container {/* jupyter's `normalize.less` sets `[hidden] { display: none; }` but bootstrap.min.css set `[hidden] { display: none !important; }` so we also need the `!important` here to be able to override the default hidden behavior on the sphinx rendered scikit-learn.org. See: https://github.com/scikit-learn/scikit-learn/issues/21755 */display: inline-block !important;position: relative;}#sk-container-id-1 div.sk-text-repr-fallback {display: none;}</style><div id=\"sk-container-id-1\" class=\"sk-top-container\"><div class=\"sk-text-repr-fallback\"><pre>RandomForestClassifier(n_estimators=50, random_state=42)</pre><b>In a Jupyter environment, please rerun this cell to show the HTML representation or trust the notebook. <br />On GitHub, the HTML representation is unable to render, please try loading this page with nbviewer.org.</b></div><div class=\"sk-container\" hidden><div class=\"sk-item\"><div class=\"sk-estimator sk-toggleable\"><input class=\"sk-toggleable__control sk-hidden--visually\" id=\"sk-estimator-id-1\" type=\"checkbox\" checked><label for=\"sk-estimator-id-1\" class=\"sk-toggleable__label sk-toggleable__label-arrow\">RandomForestClassifier</label><div class=\"sk-toggleable__content\"><pre>RandomForestClassifier(n_estimators=50, random_state=42)</pre></div></div></div></div></div>"
            ]
          },
          "metadata": {},
          "execution_count": 15
        }
      ]
    },
    {
      "cell_type": "code",
      "source": [
        "X_test_feature = VGG_model.predict(x_test)\n",
        "X_test_features = X_test_feature.reshape(X_test_feature.shape[0], -1)"
      ],
      "metadata": {
        "colab": {
          "base_uri": "https://localhost:8080/"
        },
        "id": "Gt0MYK48wokY",
        "outputId": "0b060631-9dc9-4a60-b73f-d2ae25cb9fbe"
      },
      "execution_count": null,
      "outputs": [
        {
          "output_type": "stream",
          "name": "stdout",
          "text": [
            "1/1 [==============================] - 3s 3s/step\n"
          ]
        }
      ]
    },
    {
      "cell_type": "code",
      "source": [
        "prediction_RF = RF_model.predict(X_test_features)\n",
        "# prediction_RF = le.inverse_transform(prediction_RF)"
      ],
      "metadata": {
        "id": "JNa6IIndw5V_"
      },
      "execution_count": null,
      "outputs": []
    },
    {
      "cell_type": "code",
      "source": [
        "from sklearn import metrics\n",
        "print (\"Accuracy = \", metrics.accuracy_score(test_labels_encoded, prediction_RF))"
      ],
      "metadata": {
        "colab": {
          "base_uri": "https://localhost:8080/"
        },
        "id": "avQ-FmQzxDOr",
        "outputId": "371059c0-db57-404c-93d7-1242f2dbf9d1"
      },
      "execution_count": null,
      "outputs": [
        {
          "output_type": "stream",
          "name": "stdout",
          "text": [
            "Accuracy =  0.9545454545454546\n"
          ]
        }
      ]
    },
    {
      "cell_type": "code",
      "source": [
        "import matplotlib.pyplot as plt\n",
        "import numpy\n",
        "from sklearn.metrics import confusion_matrix\n",
        "from mlxtend.plotting import plot_confusion_matrix\n",
        "\n",
        "cm = confusion_matrix(test_labels_encoded, prediction_RF)\n",
        "fig, ax = plot_confusion_matrix(conf_mat=cm, figsize=(3, 3), cmap=plt.cm.Blues)\n",
        "plt.xlabel('Predictions', fontsize=12)\n",
        "plt.ylabel('Actuals', fontsize=12)\n",
        "plt.title('Confusion Matrix', fontsize=14)\n",
        "plt.show()\n",
        "TN = cm[0][0]\n",
        "TP = cm[1][1]\n",
        "FN = cm[1][0]\n",
        "FP = cm[0][1]\n",
        "\n",
        "print('Akurasi = \"{}%\"'.format(round((TP + TN) /\n",
        "(TP + TN + FN + FP)*100,2)))\n",
        "print('Sensitivitas = \"{}%\"'.format(round((TP) /\n",
        "(TP + FN)*100,2)))\n",
        "print('Spesifitas = \"{}%\"'.format(round((TN) /\n",
        "(TN + FP)*100,2)))"
      ],
      "metadata": {
        "colab": {
          "base_uri": "https://localhost:8080/",
          "height": 390
        },
        "id": "RH2CMbo1U5dc",
        "outputId": "edbc86b9-93f5-4b61-b0fa-109115b14a8d"
      },
      "execution_count": null,
      "outputs": [
        {
          "output_type": "display_data",
          "data": {
            "text/plain": [
              "<Figure size 300x300 with 1 Axes>"
            ],
            "image/png": "[encoded data removed]"
          },
          "metadata": {}
        },
        {
          "output_type": "stream",
          "name": "stdout",
          "text": [
            "Akurasi = \"95.45%\"\n",
            "Sensitivitas = \"100.0%\"\n",
            "Spesifitas = \"90.91%\"\n"
          ]
        }
      ]
    },
    {
      "cell_type": "code",
      "source": [
        "n=np.random.randint(0, x_test.shape[0])\n",
        "img = x_test[n]\n",
        "plt.imshow(img)\n",
        "input_img = np.expand_dims(img, axis=0)\n",
        "input_img_feature=VGG_model.predict(input_img)\n",
        "input_img_features=input_img_feature.reshape(input_img_feature.shape[0], -1)\n",
        "prediction_RF = RF_model.predict(input_img_features)[0]\n",
        "prediction_RF = le.inverse_transform([prediction_RF])\n",
        "print(\"Prediksi dari gambar ini adalah: \", prediction_RF)\n",
        "print(\"Label sebenarnya dari gambar ini adalah: \", test_labels[n])"
      ],
      "metadata": {
        "colab": {
          "base_uri": "https://localhost:8080/",
          "height": 485
        },
        "id": "DMZXxVCixWCl",
        "outputId": "87d367e1-f80f-4d79-8156-64fcf39d63b3"
      },
      "execution_count": null,
      "outputs": [
        {
          "output_type": "stream",
          "name": "stdout",
          "text": [
            "1/1 [==============================] - 0s 199ms/step\n",
            "Prediksi dari gambar ini adalah:  ['Normal']\n",
            "Label sebenarnya dari gambar ini adalah:  Normal\n"
          ]
        },
        {
          "output_type": "display_data",
          "data": {
            "text/plain": [
              "<Figure size 640x480 with 1 Axes>"
            ],
            "image/png": "[encoded data removed]"
          },
          "metadata": {}
        }
      ]
    }
  ]
}